{
 "cells": [
  {
   "cell_type": "code",
   "execution_count": 2,
   "id": "2ef5b593",
   "metadata": {},
   "outputs": [],
   "source": [
    "# Importing packages\n",
    "import xarray as xr\n",
    "import numpy as np\n",
    "import matplotlib.pyplot as plt\n",
    "import os\n",
    "import re\n",
    "from tqdm import tqdm\n",
    "from preprocessing_functions import *"
   ]
  },
  {
   "cell_type": "markdown",
   "id": "a8ac0752",
   "metadata": {},
   "source": [
    "# Test data generator using one month data"
   ]
  },
  {
   "cell_type": "code",
   "execution_count": 7,
   "id": "d89d0e70",
   "metadata": {},
   "outputs": [
    {
     "name": "stdout",
     "output_type": "stream",
     "text": [
      "CPU times: user 815 ms, sys: 32.2 ms, total: 848 ms\n",
      "Wall time: 861 ms\n",
      "loaded in data\n",
      "nntbp\n",
      "(30, 1343, 64, 128)\n",
      "nnqbp\n",
      "(30, 1343, 64, 128)\n",
      "lhflx\n",
      "(1, 1343, 64, 128)\n",
      "shflx\n",
      "(1, 1343, 64, 128)\n",
      "ps\n",
      "(1, 1343, 64, 128)\n",
      "solin\n",
      "(1, 1343, 64, 128)\n",
      "newhum\n",
      "(30, 1343, 64, 128)\n",
      "oldhum\n",
      "(30, 1343, 64, 128)\n",
      "nnInput\n",
      "(64, 1343, 64, 128)\n",
      "Mean relative humidity conversion error: 0.004525340220660508\n",
      "Variance for relative humidity conversion error: 0.0005452406895807517\n",
      "nntbp.shape: (30, 1343, 64, 128)\n",
      "nnqbp.shape: (30, 1343, 64, 128)\n",
      "lhflx.shape: (1, 1343, 64, 128)\n",
      "shflx.shape: (1, 1343, 64, 128)\n",
      "ps.shape: (1, 1343, 64, 128)\n",
      "solin.shape: (1, 1343, 64, 128)\n",
      "newhum.shape: (30, 1343, 64, 128)\n",
      "oldhum.shape: (30, 1343, 64, 128)\n",
      "nnInput.shape: (64, 1343, 64, 128)\n",
      "\n"
     ]
    }
   ],
   "source": [
    "# Test for one month data\n",
    "data_path = \"/ocean/projects/atm200007p/jlin96/longSPrun/\"\n",
    "%time ds = load_data(month = 2, year = 0, data_path = data_path)\n",
    "nnInput = make_nn_input(ds, family = \"relative\", subsample = False, spacing = 8, contiguous = True, print_diagnostics = True)"
   ]
  },
  {
   "cell_type": "code",
   "execution_count": 15,
   "id": "e5b21c37",
   "metadata": {},
   "outputs": [
    {
     "name": "stdout",
     "output_type": "stream",
     "text": [
      "tphystnd\n",
      "(30, 1343, 64, 128)\n",
      "phq\n",
      "(30, 1343, 64, 128)\n",
      "nnTarget\n",
      "(60, 1343, 64, 128)\n"
     ]
    }
   ],
   "source": [
    "nnTarget = make_nn_target(ds, subsample = False, spacing = 8, contiguous = True, print_diagnostics = True)\n"
   ]
  },
  {
   "cell_type": "code",
   "execution_count": 9,
   "id": "c3f775e8",
   "metadata": {},
   "outputs": [],
   "source": [
    "spData_train_input = reshape_input(nnInput)"
   ]
  },
  {
   "cell_type": "code",
   "execution_count": 17,
   "id": "70c36dce",
   "metadata": {},
   "outputs": [],
   "source": [
    "spData_train_target = reshape_target(nnTarget)"
   ]
  },
  {
   "cell_type": "code",
   "execution_count": 19,
   "id": "f5d7bc3f",
   "metadata": {},
   "outputs": [
    {
     "data": {
      "text/plain": [
       "((64, 11001856), (60, 11001856))"
      ]
     },
     "execution_count": 19,
     "metadata": {},
     "output_type": "execute_result"
    }
   ],
   "source": [
    "spData_train_input.shape, spData_train_target.shape # shape of input, 64 features and 11001856 samples"
   ]
  },
  {
   "cell_type": "code",
   "execution_count": 33,
   "id": "a2850b93",
   "metadata": {},
   "outputs": [],
   "source": [
    "# Input data, normalization files\n",
    "mu_fn = '../training/norm_files/inp_sub_3d.txt'\n",
    "sigma_fn = '../training/norm_files/inp_div_3d.txt'\n",
    "mu = np.loadtxt(mu_fn)\n",
    "sigma = np.loadtxt(sigma_fn)\n"
   ]
  },
  {
   "cell_type": "code",
   "execution_count": 34,
   "id": "f5c85cc4",
   "metadata": {},
   "outputs": [
    {
     "data": {
      "text/plain": [
       "array([[2.24818400e+02],\n",
       "       [2.18004584e+02],\n",
       "       [2.02243455e+02],\n",
       "       [2.20314403e+02],\n",
       "       [2.17085671e+02],\n",
       "       [2.11971965e+02],\n",
       "       [2.07420064e+02],\n",
       "       [2.05973354e+02],\n",
       "       [2.06601566e+02],\n",
       "       [2.07979322e+02],\n",
       "       [2.09715409e+02],\n",
       "       [2.11536297e+02],\n",
       "       [2.14117904e+02],\n",
       "       [2.17825544e+02],\n",
       "       [2.23032102e+02],\n",
       "       [2.29604145e+02],\n",
       "       [2.37105028e+02],\n",
       "       [2.45090067e+02],\n",
       "       [2.53181388e+02],\n",
       "       [2.60449261e+02],\n",
       "       [2.66226924e+02],\n",
       "       [2.70324205e+02],\n",
       "       [2.72955380e+02],\n",
       "       [2.74973995e+02],\n",
       "       [2.76444679e+02],\n",
       "       [2.77948704e+02],\n",
       "       [2.79421818e+02],\n",
       "       [2.80797082e+02],\n",
       "       [2.81984622e+02],\n",
       "       [2.83081572e+02],\n",
       "       [9.05007433e-02],\n",
       "       [1.50965503e-01],\n",
       "       [1.43941767e-01],\n",
       "       [6.38730646e-02],\n",
       "       [6.39144316e-02],\n",
       "       [7.12869663e-02],\n",
       "       [1.60643147e-01],\n",
       "       [2.68171771e-01],\n",
       "       [2.34630044e-01],\n",
       "       [2.44061187e-01],\n",
       "       [2.91158812e-01],\n",
       "       [3.53349973e-01],\n",
       "       [4.05147613e-01],\n",
       "       [4.47092820e-01],\n",
       "       [4.85807788e-01],\n",
       "       [5.24690796e-01],\n",
       "       [5.53504605e-01],\n",
       "       [5.69586145e-01],\n",
       "       [5.68039004e-01],\n",
       "       [5.64161802e-01],\n",
       "       [5.86445579e-01],\n",
       "       [6.56936968e-01],\n",
       "       [7.69187845e-01],\n",
       "       [8.23829916e-01],\n",
       "       [8.63338263e-01],\n",
       "       [8.78621077e-01],\n",
       "       [8.74596298e-01],\n",
       "       [8.61548483e-01],\n",
       "       [8.43010475e-01],\n",
       "       [8.59397145e-01],\n",
       "       [9.83027903e+04],\n",
       "       [3.26099312e+02],\n",
       "       [1.69276628e+01],\n",
       "       [7.19874963e+01]])"
      ]
     },
     "execution_count": 34,
     "metadata": {},
     "output_type": "execute_result"
    }
   ],
   "source": []
  },
  {
   "cell_type": "code",
   "execution_count": 35,
   "id": "b827ea3a",
   "metadata": {},
   "outputs": [
    {
     "data": {
      "text/plain": [
       "array([[ 0.90813374,  0.90755972,  0.9072237 , ..., -2.30963506,\n",
       "        -2.31026333, -2.31086817],\n",
       "       [ 0.7200808 ,  0.72048886,  0.72091046, ..., -2.35592818,\n",
       "        -2.35593494, -2.35584476],\n",
       "       [ 0.97685852,  0.97708051,  0.97651923, ..., -2.47677944,\n",
       "        -2.47695992, -2.47720176],\n",
       "       ...,\n",
       "       [ 0.37184556,  0.37364867,  0.3773844 , ..., -0.77103151,\n",
       "        -0.77103151, -0.77103151],\n",
       "       [ 0.60544223,  0.62159941,  0.57902204, ...,  0.50627013,\n",
       "         0.57787777,  0.62468221],\n",
       "       [-0.64423766, -0.64627585, -0.65012872, ..., -0.68459312,\n",
       "        -0.6714258 , -0.65068756]])"
      ]
     },
     "execution_count": 35,
     "metadata": {},
     "output_type": "execute_result"
    }
   ],
   "source": [
    "(spData_train_input - mu[:, np.newaxis])/sigma[:, np.newaxis]"
   ]
  },
  {
   "cell_type": "code",
   "execution_count": 58,
   "id": "f0b3e449",
   "metadata": {},
   "outputs": [],
   "source": [
    "import numpy as np\n",
    "import tensorflow as tf\n",
    "import xarray as xr\n",
    "import h5py\n",
    "import pandas as pd\n",
    "from tensorflow.keras import models\n",
    "from tensorflow.keras import layers\n",
    "from tensorflow.keras.models import load_model\n",
    "\n",
    "class data_generator(tf.keras.utils.Sequence):\n",
    "    \n",
    "    def __init__(self, nn_input, nn_target, mu_fn, sigma_fn, \n",
    "                 batch_size=1024,shuffle=True):\n",
    "        self.mu_fn = mu_fn\n",
    "        self.sigma_fn = sigma_fn\n",
    "        self.batch_size = batch_size\n",
    "        self.shuffle = shuffle\n",
    "        self.input_ds, self.target_ds = nn_input, nn_target\n",
    "        self.mu_ds = np.loadtxt(mu_fn)\n",
    "        self.sigma_ds = np.loadtxt(sigma_fn)\n",
    "        self.n_samples = self.input_ds.shape[1]\n",
    "        self.n_batches = int(self.n_samples/self.batch_size)\n",
    "        self.on_epoch_end()\n",
    "\n",
    "    def __len__(self):\n",
    "        return self.n_batches\n",
    "\n",
    "    def __getitem__(self, index):\n",
    "        start_idx = int(index * self.batch_size)\n",
    "        end_idx = int(start_idx + self.batch_size)\n",
    "        X  = self.input_ds[:, start_idx:end_idx]\n",
    "        Y = self.target_ds[:, start_idx:end_idx]\n",
    "        # 2.Normalization\n",
    "        X = (X - self.mu_ds[:, np.newaxis]) / self.sigma_ds[:, np.newaxis]\n",
    "\n",
    "        return X, Y\n",
    "\n",
    "\n",
    "\n",
    "    def on_epoch_end(self):\n",
    "        self.indexs = np.arange(self.n_batches)\n",
    "        if self.shuffle: np.random.shuffle(self.indexs)"
   ]
  },
  {
   "cell_type": "code",
   "execution_count": 59,
   "id": "33621b48",
   "metadata": {},
   "outputs": [],
   "source": [
    "dg = data_generator(spData_train_input, spData_train_target, mu_fn, sigma_fn)"
   ]
  },
  {
   "cell_type": "code",
   "execution_count": 63,
   "id": "164ee651",
   "metadata": {},
   "outputs": [
    {
     "name": "stdout",
     "output_type": "stream",
     "text": [
      "(64, 1024) (60, 1024)\n"
     ]
    },
    {
     "data": {
      "text/plain": [
       "(array([[ 0.90813374,  0.90755972,  0.9072237 , ...,  0.91157104,\n",
       "          0.91189905,  0.91249341],\n",
       "        [ 0.7200808 ,  0.72048886,  0.72091046, ...,  0.74026022,\n",
       "          0.74040676,  0.74105306],\n",
       "        [ 0.97685852,  0.97708051,  0.97651923, ...,  0.99293534,\n",
       "          0.99296872,  0.99297955],\n",
       "        ...,\n",
       "        [ 0.37184556,  0.37364867,  0.3773844 , ...,  0.50712979,\n",
       "          0.52152173,  0.53528058],\n",
       "        [ 0.60544223,  0.62159941,  0.57902204, ...,  0.26651128,\n",
       "          0.27150584,  0.2913498 ],\n",
       "        [-0.64423766, -0.64627585, -0.65012872, ..., -0.77793631,\n",
       "         -0.77778144, -0.77790141]]),\n",
       " array([[-4.6344035e-06, -4.4992044e-06, -4.3746754e-06, ...,\n",
       "          3.6902911e-08,  7.1772189e-07,  1.2165418e-06],\n",
       "        [-2.4730957e-06, -2.4254095e-06, -2.4150222e-06, ...,\n",
       "         -9.6337567e-07, -5.8022550e-07, -3.6005693e-07],\n",
       "        [-5.3740382e-06, -9.4926654e-06, -1.4961652e-05, ...,\n",
       "          1.1557225e-06, -6.9673301e-06, -4.2275842e-06],\n",
       "        ...,\n",
       "        [-6.0644489e-09, -3.6863397e-09, -6.2778711e-09, ...,\n",
       "          6.9324364e-09,  3.2286418e-09, -1.0594622e-09],\n",
       "        [ 1.0703329e-09,  6.3260659e-09,  3.9468078e-09, ...,\n",
       "         -9.2653512e-09, -2.2944016e-09, -1.0182021e-09],\n",
       "        [ 1.1349258e-08,  1.1210309e-08,  1.5728590e-08, ...,\n",
       "         -7.0228129e-10, -7.5523260e-10, -5.4564359e-10]], dtype=float32))"
      ]
     },
     "execution_count": 63,
     "metadata": {},
     "output_type": "execute_result"
    }
   ],
   "source": [
    "# The first batch data\n",
    "print(dg[0][0].shape, dg[0][1].shape)\n",
    "dg[0][0], dg[0][1] # input and target\n"
   ]
  },
  {
   "cell_type": "code",
   "execution_count": 65,
   "id": "25110795",
   "metadata": {},
   "outputs": [
    {
     "data": {
      "text/plain": [
       "(array([[ 0.83126522,  0.82596592,  0.8198688 , ...,  0.9219113 ,\n",
       "          0.92073676,  0.91945001],\n",
       "        [ 0.85236602,  0.84665083,  0.84115807, ...,  0.94655219,\n",
       "          0.9471331 ,  0.94685204],\n",
       "        [ 1.20159461,  1.19691306,  1.19231904, ...,  1.10798616,\n",
       "          1.10461937,  1.10206022],\n",
       "        ...,\n",
       "        [-0.77103151, -0.77103151, -0.77103151, ..., -0.06701986,\n",
       "          0.18294648,  0.43345955],\n",
       "        [ 1.51032042,  1.58459583,  1.59588066, ...,  0.83447795,\n",
       "          0.83050556,  0.77247129],\n",
       "        [-0.56655121, -0.55927876, -0.55768005, ..., -0.59959883,\n",
       "         -0.60113562, -0.59476684]]),\n",
       " array([[-5.70841585e-05, -5.69377407e-05, -5.67384923e-05, ...,\n",
       "         -1.18691269e-05, -1.71688941e-06,  8.43276848e-06],\n",
       "        [-4.03271952e-05, -4.02107617e-05, -4.00895915e-05, ...,\n",
       "         -3.40692827e-06,  2.97016163e-06,  9.31379054e-06],\n",
       "        [-3.36639241e-05, -3.91362300e-05, -3.85001149e-05, ...,\n",
       "         -2.87348144e-06,  2.10438225e-06,  2.52452037e-06],\n",
       "        ...,\n",
       "        [ 4.20504032e-09,  6.34095532e-09,  1.00021813e-09, ...,\n",
       "         -1.20106716e-08, -1.18697818e-09, -1.22272388e-08],\n",
       "        [-6.31682218e-09,  4.06721723e-09,  1.08084732e-08, ...,\n",
       "          4.71863792e-09, -3.08312731e-09, -1.62524980e-08],\n",
       "        [-1.24758532e-08, -7.03048375e-09, -6.57322030e-10, ...,\n",
       "         -1.35848870e-08, -2.87195085e-08,  1.29920785e-08]], dtype=float32))"
      ]
     },
     "execution_count": 65,
     "metadata": {},
     "output_type": "execute_result"
    }
   ],
   "source": [
    "dg[100]"
   ]
  },
  {
   "cell_type": "code",
   "execution_count": null,
   "id": "258c8e34",
   "metadata": {},
   "outputs": [],
   "source": []
  }
 ],
 "metadata": {
  "kernelspec": {
   "display_name": "Python 3 (ipykernel)",
   "language": "python",
   "name": "python3"
  },
  "language_info": {
   "codemirror_mode": {
    "name": "ipython",
    "version": 3
   },
   "file_extension": ".py",
   "mimetype": "text/x-python",
   "name": "python",
   "nbconvert_exporter": "python",
   "pygments_lexer": "ipython3",
   "version": "3.9.7"
  }
 },
 "nbformat": 4,
 "nbformat_minor": 5
}
