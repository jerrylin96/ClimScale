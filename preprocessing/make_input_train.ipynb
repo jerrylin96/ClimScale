{
 "cells": [
  {
   "cell_type": "markdown",
   "id": "4567eda4-564a-4deb-afd6-f8d8ad75adab",
   "metadata": {},
   "source": [
    "# Import packages"
   ]
  },
  {
   "cell_type": "code",
   "execution_count": 1,
   "id": "23e17ac0-08c2-4bd6-ba5f-f7536c551c84",
   "metadata": {},
   "outputs": [],
   "source": [
    "import xarray as xr\n",
    "import numpy as np\n",
    "import matplotlib.pyplot as plt\n",
    "import os\n",
    "import re\n",
    "from tqdm import tqdm\n",
    "from preprocessing_functions import *\n",
    "\n",
    "#optional\n",
    "import datetime"
   ]
  },
  {
   "cell_type": "markdown",
   "id": "1f847933-cb11-4862-af85-72dafd863bb2",
   "metadata": {},
   "source": [
    "# Read data path"
   ]
  },
  {
   "cell_type": "code",
   "execution_count": 2,
   "id": "1e7ad717",
   "metadata": {},
   "outputs": [
    {
     "name": "stdout",
     "output_type": "stream",
     "text": [
      "/ocean/projects/atm200007p/yxia1/nnSpreadTesting_datagenerator/preprocessing\r\n"
     ]
    }
   ],
   "source": [
    "!pwd"
   ]
  },
  {
   "cell_type": "code",
   "execution_count": 3,
   "id": "db9dd605-bf91-4d8e-b61e-7d1c5a91b8ce",
   "metadata": {},
   "outputs": [],
   "source": [
    "def checktime():\n",
    "    print(datetime.datetime.now()) \n",
    "data_path = \"/ocean/projects/atm200007p/jlin96/longSPrun/\""
   ]
  },
  {
   "cell_type": "markdown",
   "id": "be32108a",
   "metadata": {},
   "source": [
    "# Test for one month data"
   ]
  },
  {
   "cell_type": "code",
   "execution_count": 4,
   "id": "6674092c",
   "metadata": {},
   "outputs": [
    {
     "name": "stdout",
     "output_type": "stream",
     "text": [
      "CPU times: user 823 ms, sys: 51.4 ms, total: 875 ms\n",
      "Wall time: 913 ms\n"
     ]
    }
   ],
   "source": [
    "%time ds = load_data(month = 2, year = 0, data_path = data_path)"
   ]
  },
  {
   "cell_type": "code",
   "execution_count": 5,
   "id": "325e04d0",
   "metadata": {},
   "outputs": [
    {
     "name": "stdout",
     "output_type": "stream",
     "text": [
      "loaded in data\n",
      "nntbp\n",
      "(30, 1343, 64, 128)\n",
      "nnqbp\n",
      "(30, 1343, 64, 128)\n",
      "lhflx\n",
      "(1, 1343, 64, 128)\n",
      "shflx\n",
      "(1, 1343, 64, 128)\n",
      "ps\n",
      "(1, 1343, 64, 128)\n",
      "solin\n",
      "(1, 1343, 64, 128)\n",
      "newhum\n",
      "(30, 1343, 64, 128)\n",
      "oldhum\n",
      "(30, 1343, 64, 128)\n",
      "nnInput\n",
      "(64, 1342, 64, 128)\n",
      "Mean relative humidity conversion error: 0.004525340220660508\n",
      "Variance for relative humidity conversion error: 0.0005452406895807517\n",
      "nntbp.shape: (30, 1343, 64, 128)\n",
      "nnqbp.shape: (30, 1343, 64, 128)\n",
      "lhflx.shape: (1, 1343, 64, 128)\n",
      "shflx.shape: (1, 1343, 64, 128)\n",
      "ps.shape: (1, 1343, 64, 128)\n",
      "solin.shape: (1, 1343, 64, 128)\n",
      "newhum.shape: (30, 1343, 64, 128)\n",
      "oldhum.shape: (30, 1343, 64, 128)\n",
      "nnInput.shape: (64, 1342, 64, 128)\n",
      "\n",
      "CPU times: user 24.1 s, sys: 11.1 s, total: 35.2 s\n",
      "Wall time: 1min 38s\n"
     ]
    }
   ],
   "source": [
    "# Test for one month data\n",
    "%%time\n",
    "nnInput = make_nn_input(ds, family = \"relative\", subsample = False, spacing = 8, contiguous = False, print_diagnostics = True)"
   ]
  },
  {
   "cell_type": "markdown",
   "id": "eb58fd88-6b11-4e26-90f2-1e1a5801dba3",
   "metadata": {},
   "source": [
    "# Load, extract, and without subsample data"
   ]
  },
  {
   "cell_type": "code",
   "execution_count": 4,
   "id": "385e11d9-f305-4c55-8740-8d45e762d1ba",
   "metadata": {},
   "outputs": [
    {
     "name": "stdout",
     "output_type": "stream",
     "text": [
      "loaded in data\n",
      "loaded in data\n",
      "loaded in data\n",
      "loaded in data\n",
      "loaded in data\n",
      "loaded in data\n",
      "loaded in data\n",
      "loaded in data\n",
      "loaded in data\n",
      "loaded in data\n",
      "loaded in data\n",
      "loaded in data\n",
      "(64, 17507, 64, 128)\n",
      "CPU times: user 5min 50s, sys: 4min 40s, total: 10min 30s\n",
      "Wall time: 47min 32s\n"
     ]
    }
   ],
   "source": [
    "%%time\n",
    "spData_train_input = combine_arrays(make_nn_input(load_data(month = 2, year = 0, data_path = data_path), family = \"relative\"), \\\n",
    "                                    make_nn_input(load_data(month = 3, year = 0, data_path = data_path), family = \"relative\"), \\\n",
    "                                    make_nn_input(load_data(month = 4, year = 0, data_path = data_path), family = \"relative\"), \\\n",
    "                                    make_nn_input(load_data(month = 5, year = 0, data_path = data_path), family = \"relative\"), \\\n",
    "                                    make_nn_input(load_data(month = 6, year = 0, data_path = data_path), family = \"relative\"), \\\n",
    "                                    make_nn_input(load_data(month = 7, year = 0, data_path = data_path), family = \"relative\"), \\\n",
    "                                    make_nn_input(load_data(month = 8, year = 0, data_path = data_path), family = \"relative\"), \\\n",
    "                                    make_nn_input(load_data(month = 9, year = 0, data_path = data_path), family = \"relative\"), \\\n",
    "                                    make_nn_input(load_data(month = 10, year = 0, data_path = data_path), family = \"relative\"), \\\n",
    "                                    make_nn_input(load_data(month = 11, year = 0, data_path = data_path), family = \"relative\"), \\\n",
    "                                    make_nn_input(load_data(month = 12, year = 0, data_path = data_path), family = \"relative\"), \\\n",
    "                                    make_nn_input(load_data(month = 1, year = 1, data_path = data_path), family = \"relative\"))\n",
    "print(spData_train_input.shape)"
   ]
  },
  {
   "cell_type": "markdown",
   "id": "341298e7-118c-45f0-bb03-9384f89238e7",
   "metadata": {},
   "source": [
    "# Reshaping"
   ]
  },
  {
   "cell_type": "code",
   "execution_count": null,
   "id": "aea2226a-6a34-41fb-b1dc-c93dd20821a9",
   "metadata": {},
   "outputs": [],
   "source": [
    "spData_train_input = reshape_input(spData_train_input)\n",
    "print(spData_train_input.shape)"
   ]
  },
  {
   "cell_type": "markdown",
   "id": "ecb4a6f5-9c8d-43ba-aee8-3b8b93868a70",
   "metadata": {},
   "source": [
    "# Create training data"
   ]
  },
  {
   "cell_type": "code",
   "execution_count": 17,
   "id": "77799dfd-8822-4494-9532-cd9ed975acc7",
   "metadata": {},
   "outputs": [
    {
     "ename": "NameError",
     "evalue": "name 'spData_train_input_3d' is not defined",
     "output_type": "error",
     "traceback": [
      "\u001b[0;31m---------------------------------------------------------------------------\u001b[0m",
      "\u001b[0;31mNameError\u001b[0m                                 Traceback (most recent call last)",
      "\u001b[0;32m/tmp/ipykernel_52921/2865488660.py\u001b[0m in \u001b[0;36m<module>\u001b[0;34m\u001b[0m\n\u001b[0;32m----> 1\u001b[0;31m \u001b[0mX_train\u001b[0m\u001b[0;34m,\u001b[0m \u001b[0minp_sub\u001b[0m\u001b[0;34m,\u001b[0m \u001b[0minp_div\u001b[0m \u001b[0;34m=\u001b[0m \u001b[0mnormalize_input_train\u001b[0m\u001b[0;34m(\u001b[0m\u001b[0mX_train\u001b[0m \u001b[0;34m=\u001b[0m \u001b[0mspData_train_input_3d\u001b[0m\u001b[0;34m,\u001b[0m \u001b[0msave_files\u001b[0m \u001b[0;34m=\u001b[0m \u001b[0;32mFalse\u001b[0m\u001b[0;34m)\u001b[0m\u001b[0;34m\u001b[0m\u001b[0;34m\u001b[0m\u001b[0m\n\u001b[0m",
      "\u001b[0;31mNameError\u001b[0m: name 'spData_train_input_3d' is not defined"
     ]
    }
   ],
   "source": []
  },
  {
   "cell_type": "code",
   "execution_count": null,
   "id": "be2dea28",
   "metadata": {},
   "outputs": [],
   "source": []
  }
 ],
 "metadata": {
  "kernelspec": {
   "display_name": "Python 3 (ipykernel)",
   "language": "python",
   "name": "python3"
  },
  "language_info": {
   "codemirror_mode": {
    "name": "ipython",
    "version": 3
   },
   "file_extension": ".py",
   "mimetype": "text/x-python",
   "name": "python",
   "nbconvert_exporter": "python",
   "pygments_lexer": "ipython3",
   "version": "3.9.7"
  },
  "vscode": {
   "interpreter": {
    "hash": "aee8b7b246df8f9039afb4144a1f6fd8d2ca17a180786b69acc140d282b71a49"
   }
  }
 },
 "nbformat": 4,
 "nbformat_minor": 5
}
